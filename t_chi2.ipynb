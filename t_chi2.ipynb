{
  "nbformat": 4,
  "nbformat_minor": 0,
  "metadata": {
    "colab": {
      "provenance": []
    },
    "kernelspec": {
      "name": "python3",
      "display_name": "Python 3"
    },
    "language_info": {
      "name": "python"
    }
  },
  "cells": [
    {
      "cell_type": "code",
      "source": [
        "# Python code from computing the t value\n",
        "from scipy.stats import t\n",
        "\n",
        "def compute_t_value(confidence_level, degrees_of_freedom):\n",
        "  \"\"\"Computes the t-value for a given confidence level and degrees of freedom.\n",
        "\n",
        "  Args:\n",
        "    confidence_level: The confidence level (e.g., 0.95 for 95%).\n",
        "    degrees_of_freedom: The degrees of freedom.\n",
        "\n",
        "  Returns:\n",
        "    The t-value corresponding to the given confidence level and degrees of freedom.\n",
        "  \"\"\"\n",
        "  alpha = 1 - confidence_level\n",
        "  t_value = t.ppf(1 - alpha / 2, degrees_of_freedom)\n",
        "  return t_value\n",
        "\n",
        "# Example usage\n",
        "confidence_level = 0.95\n",
        "degrees_of_freedom = 29\n",
        "\n",
        "t_value = compute_t_value(confidence_level, degrees_of_freedom)\n",
        "prob = t.cdf(t_value, degrees_of_freedom)\n",
        "\n",
        "print(f\"The t-value for a {confidence_level*100:.0f}% confidence level and {degrees_of_freedom} degrees of freedom is: {t_value}\")\n",
        "print(f\"The probability for a t-value of {t_value} with {degrees_of_freedom} degrees of freedom is: {prob}\")\n"
      ],
      "metadata": {
        "colab": {
          "base_uri": "https://localhost:8080/"
        },
        "id": "oBMfYbw-4jdM",
        "outputId": "4c1b530f-ad1e-4c19-86cd-9dc4c4c2b1ce"
      },
      "execution_count": null,
      "outputs": [
        {
          "output_type": "stream",
          "name": "stdout",
          "text": [
            "The t-value for a 95% confidence level and 29 degrees of freedom is: 2.045229642132703\n",
            "The probability for a t-value of 2.045229642132703 with 29 degrees of freedom is: 0.9749999999999999\n"
          ]
        }
      ]
    },
    {
      "cell_type": "code",
      "source": [
        "# Python code for computing the chi-squared values\n",
        "from scipy.stats import chi2\n",
        "\n",
        "def compute_chi_squared_value(confidence_level, degrees_of_freedom):\n",
        "  \"\"\"Computes the chi-squared value for a given confidence level and degrees of freedom.\n",
        "\n",
        "  Args:\n",
        "    confidence_level: The confidence level (e.g., 0.95 for 95%).\n",
        "    degrees_of_freedom: The degrees of freedom.\n",
        "\n",
        "  Returns:\n",
        "    The chi-squared value corresponding to the given confidence level and degrees of freedom.\n",
        "  \"\"\"\n",
        "  alpha = 1 - confidence_level\n",
        "  chi2_value = chi2.ppf(1 - alpha, degrees_of_freedom)\n",
        "  return chi2_value\n",
        "\n",
        "# Example usage\n",
        "confidence_level = 0.9\n",
        "degrees_of_freedom = 8\n",
        "\n",
        "chi2_value = compute_chi_squared_value(confidence_level, degrees_of_freedom)\n",
        "prob = chi2.cdf(chi2_value, degrees_of_freedom)\n",
        "\n",
        "print(f\"The chi-squared value for a {confidence_level*100:.0f}% confidence level and {degrees_of_freedom} degrees of freedom is: {chi2_value}\")\n",
        "print(f\"The probability for a chi-squared value of {chi2_value} with {degrees_of_freedom} degrees of freedom is: {prob}\")\n"
      ],
      "metadata": {
        "colab": {
          "base_uri": "https://localhost:8080/"
        },
        "id": "kHk4J7-yKVW_",
        "outputId": "58d6afee-05ae-4119-d1b7-6d6f93689aa9"
      },
      "execution_count": null,
      "outputs": [
        {
          "output_type": "stream",
          "name": "stdout",
          "text": [
            "The chi-squared value for a 90% confidence level and 8 degrees of freedom is: 13.36156613651173\n",
            "The probability for a chi-squared value of 13.36156613651173 with 8 degrees of freedom is: 0.9\n"
          ]
        }
      ]
    },
    {
      "cell_type": "code",
      "source": [
        "confidence_level = 0.06\n",
        "degrees_of_freedom = 17\n",
        "chi2_value = compute_chi_squared_value(confidence_level, degrees_of_freedom)\n",
        "prob = chi2.cdf(chi2_value, degrees_of_freedom)\n",
        "\n",
        "print(f\"The chi-squared value for a {confidence_level*100:.0f}% confidence level and {degrees_of_freedom} degrees of freedom is: {chi2_value}\")\n",
        "print(f\"The probability for a chi-squared value of {chi2_value} with {degrees_of_freedom} degrees of freedom is: {prob}\")"
      ],
      "metadata": {
        "id": "h22_34zNQ-6Q",
        "colab": {
          "base_uri": "https://localhost:8080/"
        },
        "outputId": "86e63665-44fa-4e29-ba5a-d9cf89c8c9dc"
      },
      "execution_count": null,
      "outputs": [
        {
          "output_type": "stream",
          "name": "stdout",
          "text": [
            "The chi-squared value for a 6% confidence level and 17 degrees of freedom is: 9.008333376632848\n",
            "The probability for a chi-squared value of 9.008333376632848 with 17 degrees of freedom is: 0.06000000000000011\n"
          ]
        }
      ]
    },
    {
      "cell_type": "code",
      "source": [],
      "metadata": {
        "id": "UHFYg0CGv7vN"
      },
      "execution_count": null,
      "outputs": []
    }
  ]
}