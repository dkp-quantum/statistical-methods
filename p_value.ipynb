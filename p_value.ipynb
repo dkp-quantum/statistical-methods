{
  "nbformat": 4,
  "nbformat_minor": 0,
  "metadata": {
    "colab": {
      "provenance": []
    },
    "kernelspec": {
      "name": "python3",
      "display_name": "Python 3"
    },
    "language_info": {
      "name": "python"
    }
  },
  "cells": [
    {
      "cell_type": "code",
      "execution_count": null,
      "metadata": {
        "colab": {
          "base_uri": "https://localhost:8080/"
        },
        "id": "MQbbdGaUpBGj",
        "outputId": "f776c193-7d44-4d4a-c9de-c5a3eedcaab4"
      },
      "outputs": [
        {
          "output_type": "stream",
          "name": "stdout",
          "text": [
            "P-value for z-score 1.5: 0.06680720126885809\n"
          ]
        }
      ],
      "source": [
        "# Compute one-tail p values for z distribution\n",
        "\n",
        "from scipy.stats import norm\n",
        "\n",
        "def compute_p_z(z_score):\n",
        "  \"\"\"\n",
        "  Computes the p-value for a given z-score using the standard normal distribution.\n",
        "\n",
        "  Args:\n",
        "    z_score: The z-score for which to compute the p-value.\n",
        "\n",
        "  Returns:\n",
        "    The p-value (one-tail).\n",
        "  \"\"\"\n",
        "  return 1-norm.cdf(abs(z_score))\n",
        "\n",
        "\n",
        "# Example usage:\n",
        "z_score = 1.5\n",
        "p_value = compute_p_z(z_score)\n",
        "print(f\"P-value for z-score {z_score}: {p_value}\")"
      ]
    },
    {
      "cell_type": "code",
      "source": [
        "z_score = 0.99\n",
        "p_value = compute_p_z(z_score)\n",
        "print(f\"P-value for z-score {z_score}: {p_value}\")"
      ],
      "metadata": {
        "colab": {
          "base_uri": "https://localhost:8080/"
        },
        "id": "tYjDzM6ipUIx",
        "outputId": "f1d6a155-4f23-484c-e47a-0837768b9f79"
      },
      "execution_count": null,
      "outputs": [
        {
          "output_type": "stream",
          "name": "stdout",
          "text": [
            "P-value for z-score 0.99: 0.1610870595108309\n"
          ]
        }
      ]
    },
    {
      "cell_type": "code",
      "source": [
        "# Compute one-tail p values for t distribution\n",
        "\n",
        "from scipy.stats import t\n",
        "\n",
        "def compute_p_t(t_score,n):\n",
        "  \"\"\"\n",
        "  Computes the p-value for a given t-score using the t distribution.\n",
        "\n",
        "  Args:\n",
        "    t_score: The t-score for which to compute the p-value.\n",
        "    n: The number of samples.\n",
        "\n",
        "  Returns:\n",
        "    The p-value (one-tail).\n",
        "  \"\"\"\n",
        "  return 1-t.cdf(abs(t_score),n-1)\n",
        "\n",
        "\n",
        "# Example usage:\n",
        "t_score = 1.833\n",
        "p_value = compute_p_t(t_score,10)\n",
        "print(f\"P-value for t-score {t_score}: {p_value}\")"
      ],
      "metadata": {
        "colab": {
          "base_uri": "https://localhost:8080/"
        },
        "id": "_at4cfXYrMRW",
        "outputId": "18486d46-f5fa-4f06-87a4-6d101609db4e"
      },
      "execution_count": null,
      "outputs": [
        {
          "output_type": "stream",
          "name": "stdout",
          "text": [
            "P-value for t-score 1.833: 0.05000897002529148\n"
          ]
        }
      ]
    },
    {
      "cell_type": "code",
      "source": [
        "t_score = 1.04\n",
        "p_value = compute_p_t(t_score,20)\n",
        "print(f\"P-value for t-score {t_score}: {p_value}\")"
      ],
      "metadata": {
        "id": "Rg3kLqyisiMO",
        "colab": {
          "base_uri": "https://localhost:8080/"
        },
        "outputId": "587a7ab3-f236-4fb7-f308-deb13addea33"
      },
      "execution_count": null,
      "outputs": [
        {
          "output_type": "stream",
          "name": "stdout",
          "text": [
            "P-value for t-score 1.04: 0.15569706908184133\n"
          ]
        }
      ]
    },
    {
      "cell_type": "code",
      "source": [
        "# Compute p-value for chi-square distribution\n",
        "\n",
        "from scipy.stats import chi2\n",
        "\n",
        "def compute_p_chi2(chi2_score, df):\n",
        "  \"\"\"\n",
        "  Computes the p-value for a given chi-square score using the chi-square distribution.\n",
        "\n",
        "  Args:\n",
        "    chi2_score: The chi-square score for which to compute the p-value.\n",
        "    df: The degrees of freedom.\n",
        "\n",
        "  Returns:\n",
        "    The p-value (one-tail).\n",
        "  \"\"\"\n",
        "  return 1 - chi2.cdf(chi2_score, df)\n",
        "\n",
        "\n",
        "# Example usage:\n",
        "chi2_score = 7.815\n",
        "df = 3\n",
        "p_value = compute_p_chi2(chi2_score, df)\n",
        "print(f\"P-value for chi-square score {chi2_score} with df {df}: {p_value}\")"
      ],
      "metadata": {
        "id": "lsUPYMUntBKL",
        "colab": {
          "base_uri": "https://localhost:8080/"
        },
        "outputId": "f189a0c2-7079-4693-a0f8-b377c78e3163"
      },
      "execution_count": null,
      "outputs": [
        {
          "output_type": "stream",
          "name": "stdout",
          "text": [
            "P-value for chi-square score 7.815 with df 3: 0.04999390297488393\n"
          ]
        }
      ]
    },
    {
      "cell_type": "code",
      "source": [
        "chi2_score = 36.72\n",
        "df = 7\n",
        "p_value = compute_p_chi2(chi2_score, df)\n",
        "print(f\"P-value for chi-square score {chi2_score} with df {df}: {p_value}\")"
      ],
      "metadata": {
        "colab": {
          "base_uri": "https://localhost:8080/"
        },
        "id": "GLP-m8BtwSoM",
        "outputId": "44dd1c82-e07a-4c62-8ec5-3ac2ac0a1c49"
      },
      "execution_count": null,
      "outputs": [
        {
          "output_type": "stream",
          "name": "stdout",
          "text": [
            "P-value for chi-square score 36.72 with df 7: 5.299609329711963e-06\n"
          ]
        }
      ]
    },
    {
      "cell_type": "code",
      "source": [],
      "metadata": {
        "id": "lawIdN5gwfgM"
      },
      "execution_count": null,
      "outputs": []
    }
  ]
}