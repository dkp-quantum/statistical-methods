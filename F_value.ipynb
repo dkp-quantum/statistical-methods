{
  "nbformat": 4,
  "nbformat_minor": 0,
  "metadata": {
    "colab": {
      "provenance": []
    },
    "kernelspec": {
      "name": "python3",
      "display_name": "Python 3"
    },
    "language_info": {
      "name": "python"
    }
  },
  "cells": [
    {
      "cell_type": "code",
      "execution_count": null,
      "metadata": {
        "id": "KjiBh_h2_WAP"
      },
      "outputs": [],
      "source": [
        "import numpy as np\n",
        "from scipy.stats import f"
      ]
    },
    {
      "cell_type": "code",
      "source": [
        "# Code for computing F value give degrees of freedoms and right-tail probability\n",
        "def f_value_from_prob(dfn, dfd, prob):\n",
        "  \"\"\"\n",
        "  Computes the F-value given degrees of freedom and right-tail probability.\n",
        "\n",
        "  Args:\n",
        "    dfn: Degrees of freedom for the numerator.\n",
        "    dfd: Degrees of freedom for the denominator.\n",
        "    prob: Right-tail probability.\n",
        "\n",
        "  Returns:\n",
        "    The F-value.  Returns None if the inputs are invalid.\n",
        "  \"\"\"\n",
        "  return f.ppf(1 - prob, dfn, dfd)\n",
        "\n",
        "# Example usage\n",
        "dfn = 3  # Degrees of freedom for numerator\n",
        "dfd = 10  # Degrees of freedom for denominator\n",
        "prob = 0.05 # Right tail probability\n",
        "\n",
        "f_val = f_value_from_prob(dfn, dfd, prob)\n",
        "print(f\"F-value: {f_val:.5f}\")"
      ],
      "metadata": {
        "colab": {
          "base_uri": "https://localhost:8080/"
        },
        "id": "UcUDrDEOACdP",
        "outputId": "85b12bd4-8742-49f0-8a13-543f596aeaac"
      },
      "execution_count": null,
      "outputs": [
        {
          "output_type": "stream",
          "name": "stdout",
          "text": [
            "F-value: 3.70826\n"
          ]
        }
      ]
    },
    {
      "cell_type": "code",
      "source": [],
      "metadata": {
        "id": "ysYbWmM49Sue"
      },
      "execution_count": null,
      "outputs": []
    },
    {
      "cell_type": "code",
      "source": [
        "f_val = f_value_from_prob(2, 10, 0.01)\n",
        "print(f\"F-value: {f_val:.5f}\")"
      ],
      "metadata": {
        "colab": {
          "base_uri": "https://localhost:8080/"
        },
        "id": "h7reVJerVm2n",
        "outputId": "305577a6-f0e9-457c-dd25-8405411ea7be"
      },
      "execution_count": null,
      "outputs": [
        {
          "output_type": "stream",
          "name": "stdout",
          "text": [
            "F-value: 7.55943\n"
          ]
        }
      ]
    },
    {
      "cell_type": "code",
      "source": [
        "dfn = 5\n",
        "dfd = 5\n",
        "f_value = 5.05\n",
        "cdf_F = f.cdf(f_value,dfn, dfd)\n",
        "print(f\"CDF for F-value {f_value}: {cdf_F:.5f}\")"
      ],
      "metadata": {
        "colab": {
          "base_uri": "https://localhost:8080/"
        },
        "id": "7KYB1BGlWm4P",
        "outputId": "406f232f-0126-4960-b5e0-ecc47d8acc9a"
      },
      "execution_count": null,
      "outputs": [
        {
          "output_type": "stream",
          "name": "stdout",
          "text": [
            "CDF for F-value 5.05: 0.94999\n"
          ]
        }
      ]
    },
    {
      "cell_type": "code",
      "source": [],
      "metadata": {
        "id": "ZcxhegphWuye"
      },
      "execution_count": null,
      "outputs": []
    }
  ]
}