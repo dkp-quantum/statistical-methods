{
 "cells": [
  {
   "cell_type": "code",
   "execution_count": 1,
   "id": "7027edc8",
   "metadata": {},
   "outputs": [],
   "source": [
    "import pandas as pd\n",
    "import matplotlib.pyplot as plt\n",
    "from sklearn.linear_model import LinearRegression\n"
   ]
  },
  {
   "cell_type": "markdown",
   "id": "cfc5dc97",
   "metadata": {},
   "source": [
    "# Linear regression example: \n",
    "\n",
    "Number of passengers vs cost of flying (example from lectures slides)"
   ]
  },
  {
   "cell_type": "code",
   "execution_count": 3,
   "id": "fa368e9f",
   "metadata": {},
   "outputs": [
    {
     "name": "stdout",
     "output_type": "stream",
     "text": [
      "Intercept: 1.5698\n",
      "Slope: 0.0407\n"
     ]
    },
    {
     "data": {
      "image/png": "[encoded data removed]",
      "text/plain": [
       "<Figure size 432x288 with 1 Axes>"
      ]
     },
     "metadata": {
      "needs_background": "light"
     },
     "output_type": "display_data"
    }
   ],
   "source": [
    "# Load data from Excel\n",
    "df = pd.read_excel(\"data/Passengers_vs_Cost.xlsx\")\n",
    "\n",
    "# Extract variables\n",
    "X = df[['Number of Passengers']]  # 2D array for sklearn\n",
    "y = df['Cost ($1,000)']\n",
    "\n",
    "# Fit linear regression model\n",
    "model = LinearRegression()\n",
    "model.fit(X, y)\n",
    "\n",
    "# Predict\n",
    "y_pred = model.predict(X)\n",
    "\n",
    "# Print model coefficients\n",
    "print(f\"Intercept: {model.intercept_:.4f}\")\n",
    "print(f\"Slope: {model.coef_[0]:.4f}\")\n",
    "\n",
    "# Plot\n",
    "plt.scatter(X, y, color='blue', label='Observed Data')\n",
    "plt.plot(X, y_pred, color='red', label='Regression Line')\n",
    "plt.xlabel(\"Number of Passengers\")\n",
    "plt.ylabel(\"Cost ($1,000)\")\n",
    "plt.title(\"Linear Regression: Cost vs Number of Passengers\")\n",
    "plt.legend()\n",
    "plt.grid(True)\n",
    "plt.show()"
   ]
  },
  {
   "cell_type": "markdown",
   "id": "9c574c77",
   "metadata": {},
   "source": [
    "## Use statmodels library"
   ]
  },
  {
   "cell_type": "code",
   "execution_count": null,
   "id": "007d0668",
   "metadata": {},
   "outputs": [],
   "source": [
    "import statsmodels.api as sm\n",
    "import statsmodels.formula.api as smf"
   ]
  },
  {
   "cell_type": "code",
   "execution_count": 5,
   "id": "28fec408",
   "metadata": {},
   "outputs": [
    {
     "name": "stdout",
     "output_type": "stream",
     "text": [
      "=== Regression Summary ===\n",
      "                            OLS Regression Results                            \n",
      "==============================================================================\n",
      "Dep. Variable:     Q(\"Cost ($1,000)\")   R-squared:                       0.899\n",
      "Model:                            OLS   Adj. R-squared:                  0.889\n",
      "Method:                 Least Squares   F-statistic:                     89.09\n",
      "Date:                Sat, 31 May 2025   Prob (F-statistic):           2.69e-06\n",
      "Time:                        14:31:30   Log-Likelihood:                 4.8312\n",
      "No. Observations:                  12   AIC:                            -5.662\n",
      "Df Residuals:                      10   BIC:                            -4.693\n",
      "Df Model:                           1                                         \n",
      "Covariance Type:            nonrobust                                         \n",
      "=============================================================================================\n",
      "                                coef    std err          t      P>|t|      [0.025      0.975]\n",
      "---------------------------------------------------------------------------------------------\n",
      "Intercept                     1.5698      0.338      4.643      0.001       0.816       2.323\n",
      "Q(\"Number of Passengers\")     0.0407      0.004      9.439      0.000       0.031       0.050\n",
      "==============================================================================\n",
      "Omnibus:                        1.556   Durbin-Watson:                   2.962\n",
      "Prob(Omnibus):                  0.459   Jarque-Bera (JB):                0.872\n",
      "Skew:                          -0.253   Prob(JB):                        0.647\n",
      "Kurtosis:                       1.780   Cond. No.                         518.\n",
      "==============================================================================\n",
      "\n",
      "Notes:\n",
      "[1] Standard Errors assume that the covariance matrix of the errors is correctly specified.\n",
      "\n",
      "=== ANOVA Table ===\n",
      "                             df    sum_sq   mean_sq          F    PR(>F)\n",
      "Q(\"Number of Passengers\")   1.0  2.798031  2.798031  89.092179  0.000003\n",
      "Residual                   10.0  0.314060  0.031406        NaN       NaN\n"
     ]
    },
    {
     "name": "stderr",
     "output_type": "stream",
     "text": [
      "/opt/anaconda3/lib/python3.7/site-packages/scipy/stats/stats.py:1542: UserWarning: kurtosistest only valid for n>=20 ... continuing anyway, n=12\n",
      "  \"anyway, n=%i\" % int(n))\n"
     ]
    }
   ],
   "source": [
    "# Step 1: Load data from Excel\n",
    "file_path = \"data/Passengers_vs_Cost.xlsx\"\n",
    "df = pd.read_excel(file_path)\n",
    "\n",
    "# Step 2: Fit linear regression model using statsmodels\n",
    "# Note: Q(...) used to handle column names with special characters or spaces\n",
    "model = smf.ols('Q(\"Cost ($1,000)\") ~ Q(\"Number of Passengers\")', data=df).fit()\n",
    "\n",
    "# Step 3: Display regression summary (includes t-test for coefficients)\n",
    "print(\"=== Regression Summary ===\")\n",
    "print(model.summary())\n",
    "\n",
    "# Step 4: Perform ANOVA\n",
    "anova_table = sm.stats.anova_lm(model, typ=1)\n",
    "\n",
    "print(\"\\n=== ANOVA Table ===\")\n",
    "print(anova_table)"
   ]
  },
  {
   "cell_type": "markdown",
   "id": "289e8baa",
   "metadata": {},
   "source": [
    "# Multiple regression example (two independent variables):\n",
    "\n",
    "Real-estate example (from lectures slides))\n",
    "\n",
    "A real-estate study was conducted in a small city to determine what variables are related to the market price of a home. Suppose the analyst wants to develop a regression model to predict the market price of a home by two variables, “total number of square feet in the house” and “the age of the house”."
   ]
  },
  {
   "cell_type": "code",
   "execution_count": 11,
   "id": "94dd8546",
   "metadata": {},
   "outputs": [
    {
     "name": "stdout",
     "output_type": "stream",
     "text": [
      "                                OLS Regression Results                                \n",
      "======================================================================================\n",
      "Dep. Variable:     Q(\"Market Price ($1,000)\")   R-squared:                       0.741\n",
      "Model:                                    OLS   Adj. R-squared:                  0.715\n",
      "Method:                         Least Squares   F-statistic:                     28.63\n",
      "Date:                        Sat, 31 May 2025   Prob (F-statistic):           1.35e-06\n",
      "Time:                                14:50:07   Log-Likelihood:                -88.105\n",
      "No. Observations:                          23   AIC:                             182.2\n",
      "Df Residuals:                              20   BIC:                             185.6\n",
      "Df Model:                                   2                                         \n",
      "Covariance Type:                    nonrobust                                         \n",
      "=============================================================================================\n",
      "                                coef    std err          t      P>|t|      [0.025      0.975]\n",
      "---------------------------------------------------------------------------------------------\n",
      "Intercept                    57.3507     10.007      5.731      0.000      36.476      78.225\n",
      "Q(\"Total Square Feet\")        0.0177      0.003      5.633      0.000       0.011       0.024\n",
      "Q(\"Age of House (Years)\")    -0.6663      0.228     -2.923      0.008      -1.142      -0.191\n",
      "==============================================================================\n",
      "Omnibus:                        0.944   Durbin-Watson:                   2.049\n",
      "Prob(Omnibus):                  0.624   Jarque-Bera (JB):                0.171\n",
      "Skew:                          -0.156   Prob(JB):                        0.918\n",
      "Kurtosis:                       3.283   Cond. No.                     1.07e+04\n",
      "==============================================================================\n",
      "\n",
      "Notes:\n",
      "[1] Standard Errors assume that the covariance matrix of the errors is correctly specified.\n",
      "[2] The condition number is large, 1.07e+04. This might indicate that there are\n",
      "strong multicollinearity or other numerical problems.\n",
      "\n",
      "=== ANOVA Table ===\n",
      "  Source of Variation  Degrees of Freedom  Sum of Squares  Mean Square  \\\n",
      "0          Regression                   2     8189.723012  4094.861506   \n",
      "1    Error (Residual)                  20     2861.016988   143.050849   \n",
      "2               Total                  22    11050.740000            —   \n",
      "\n",
      "           F  \n",
      "0  28.625216  \n",
      "1          —  \n",
      "2          —  \n"
     ]
    }
   ],
   "source": [
    "# Step 1: Load the data\n",
    "df = pd.read_excel(\"data/Housing_Market_Data.xlsx\")\n",
    "\n",
    "# Step 2: Fit multiple linear regression model\n",
    "model = smf.ols('Q(\"Market Price ($1,000)\") ~ Q(\"Total Square Feet\") + Q(\"Age of House (Years)\")', data=df).fit()\n",
    "\n",
    "# Step 3: Display summary\n",
    "print(model.summary())\n",
    "\n",
    "# Step 4: Perform ANOVA\n",
    "anova = sm.stats.anova_lm(model, typ=1)\n",
    "\n",
    "# Extract ANOVA info\n",
    "# Compute total sum of squares (SST)\n",
    "SST = anova['sum_sq'].sum()\n",
    "SSR = anova['sum_sq'][:-1].sum()  # regression sum of squares (excluding residual)\n",
    "SSE = anova['sum_sq'][-1]         # residual sum of squares\n",
    "\n",
    "# Degrees of freedom\n",
    "n = len(df)              # number of observations\n",
    "k = model.df_model       # number of predictors (not including intercept)\n",
    "df_reg = int(k)\n",
    "df_err = int(model.df_resid)\n",
    "df_total = n - 1\n",
    "\n",
    "# Mean squares\n",
    "MSR = SSR / df_reg\n",
    "MSE = SSE / df_err\n",
    "\n",
    "# F-statistic\n",
    "F_stat = MSR / MSE\n",
    "\n",
    "# Create custom ANOVA summary table\n",
    "custom_anova = pd.DataFrame({\n",
    "    'Source of Variation': ['Regression', 'Error (Residual)', 'Total'],\n",
    "    'Degrees of Freedom': [df_reg, df_err, df_total],\n",
    "    'Sum of Squares': [SSR, SSE, SST],\n",
    "    'Mean Square': [MSR, MSE, '—'],\n",
    "    'F': [F_stat, '—', '—']\n",
    "})\n",
    "\n",
    "print(\"\\n=== ANOVA Table ===\")\n",
    "print(custom_anova)"
   ]
  }
 ],
 "metadata": {
  "kernelspec": {
   "display_name": "base",
   "language": "python",
   "name": "python3"
  },
  "language_info": {
   "codemirror_mode": {
    "name": "ipython",
    "version": 3
   },
   "file_extension": ".py",
   "mimetype": "text/x-python",
   "name": "python",
   "nbconvert_exporter": "python",
   "pygments_lexer": "ipython3",
   "version": "3.7.6"
  }
 },
 "nbformat": 4,
 "nbformat_minor": 5
}
