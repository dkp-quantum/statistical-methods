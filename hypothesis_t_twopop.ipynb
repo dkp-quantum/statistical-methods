{
  "nbformat": 4,
  "nbformat_minor": 0,
  "metadata": {
    "colab": {
      "provenance": []
    },
    "kernelspec": {
      "name": "python3",
      "display_name": "Python 3"
    },
    "language_info": {
      "name": "python"
    }
  },
  "cells": [
    {
      "cell_type": "code",
      "source": [
        "import numpy as np\n",
        "from scipy import stats"
      ],
      "metadata": {
        "id": "0G1PP_4XCH_S"
      },
      "execution_count": null,
      "outputs": []
    },
    {
      "cell_type": "code",
      "source": [
        "# Hypothesis test for difference in two population means assuming the population variances are equal.\n",
        "def equal_var_t_test(sample1, sample2, alpha):\n",
        "    \"\"\"\n",
        "    Performs a two-sample t-test assuming equal population variances, without using the built-in function ttest_ind.\n",
        "\n",
        "    Args:\n",
        "      sample1: A list or numpy array representing the first sample.\n",
        "      sample2: A list or numpy array representing the second sample.\n",
        "      alpha: The significance level.\n",
        "\n",
        "    Returns:\n",
        "      A dictionary containing the t-statistic, p-value, degrees of freedom,\n",
        "      and a conclusion based on the hypothesis test.\n",
        "    \"\"\"\n",
        "    n1 = len(sample1)\n",
        "    n2 = len(sample2)\n",
        "    mean1 = np.mean(sample1)\n",
        "    mean2 = np.mean(sample2)\n",
        "    std1 = np.std(sample1, ddof=1)  # Sample standard deviation\n",
        "    std2 = np.std(sample2, ddof=1)\n",
        "\n",
        "    # Pooled standard deviation\n",
        "    sp = np.sqrt(((n1 - 1) * std1**2 + (n2 - 1) * std2**2) / (n1 + n2 - 2))\n",
        "\n",
        "    # t-statistic\n",
        "    t_stat = (mean1 - mean2) / (sp * np.sqrt(1/n1 + 1/n2))\n",
        "\n",
        "    # Degrees of freedom\n",
        "    df = n1 + n2 - 2\n",
        "\n",
        "    # p-value (two-tailed)\n",
        "    p_value = 2 * (1 - stats.t.cdf(abs(t_stat), df))\n",
        "\n",
        "    conclusion = \"Fail to reject the null hypothesis.\"\n",
        "    if p_value < alpha:\n",
        "        conclusion = \"Reject the null hypothesis.\"\n",
        "\n",
        "    return {\n",
        "        \"t-statistic\": t_stat,\n",
        "        \"p-value\": p_value,\n",
        "        \"conclusion\": conclusion,\n",
        "    }\n"
      ],
      "metadata": {
        "id": "OMtWgjdZCN8k"
      },
      "execution_count": null,
      "outputs": []
    },
    {
      "cell_type": "code",
      "source": [
        "# Generate two normally distributed data\n",
        "\n",
        "mu1 = 15\n",
        "mu2 = 15\n",
        "\n",
        "std1 = 1\n",
        "std2 = 2\n",
        "# Generate two normally distributed datasets\n",
        "data1 = np.random.normal(mu1, std1, 10)\n",
        "data2 = np.random.normal(mu2, std2, 10)\n",
        "\n",
        "# Save to a text file\n",
        "np.savetxt(\"sample_data1.txt\", data1, fmt=\"%.5f\")\n",
        "np.savetxt(\"sample_data2.txt\", data2, fmt=\"%.5f\")"
      ],
      "metadata": {
        "id": "tzcjJpCECfAd"
      },
      "execution_count": null,
      "outputs": []
    },
    {
      "cell_type": "code",
      "source": [
        "result = equal_var_t_test(data1,data2,0.05)\n",
        "print(\"Test Results:\")\n",
        "print(f\"t-statistic: {result['t-statistic']:.5f}\")\n",
        "print(f\"p-value: {result['p-value']:.5f}\")\n",
        "print(f\"Conclusion: {result['conclusion']}\")"
      ],
      "metadata": {
        "colab": {
          "base_uri": "https://localhost:8080/"
        },
        "id": "HV7OUOIfEnVH",
        "outputId": "0ee78ca3-4eec-4c37-d1a5-5c2b5fcfc922"
      },
      "execution_count": null,
      "outputs": [
        {
          "output_type": "stream",
          "name": "stdout",
          "text": [
            "Test Results:\n",
            "t-statistic: -0.02368\n",
            "p-value: 0.98137\n",
            "Conclusion: Fail to reject the null hypothesis.\n"
          ]
        }
      ]
    },
    {
      "cell_type": "code",
      "execution_count": null,
      "metadata": {
        "colab": {
          "base_uri": "https://localhost:8080/"
        },
        "id": "6WgLXCGVB1ff",
        "outputId": "3d7c1e03-d88d-4493-c4ee-282d85e43e09"
      },
      "outputs": [
        {
          "output_type": "stream",
          "name": "stdout",
          "text": [
            "t-stitistic = -0.02368, p-value = 0.98137\n"
          ]
        }
      ],
      "source": [
        "# Hypothesis test for difference in two population means assuming the population variances are equal. Use a build-in function in scipy, ttest_ind.\n",
        "t_stat, p_value = stats.ttest_ind(data1, data2, equal_var=True)\n",
        "print(f\"t-stitistic = {t_stat:.5f}, p-value = {p_value:.5f}\")"
      ]
    },
    {
      "cell_type": "code",
      "source": [
        "# Hypothesis test for difference when two populations are related\n",
        "\n",
        "def paired_t_test(sample1, sample2, alpha):\n",
        "    \"\"\"\n",
        "    Performs a paired t-test.\n",
        "\n",
        "    Args:\n",
        "      sample1: A list or numpy array representing the first sample.\n",
        "      sample2: A list or numpy array representing the second sample.\n",
        "      alpha: The significance level.\n",
        "\n",
        "    Returns:\n",
        "      A dictionary containing the t-statistic, p-value, and a conclusion\n",
        "      based on the hypothesis test.\n",
        "    \"\"\"\n",
        "    # Calculate the differences between paired observations\n",
        "    differences = np.array(sample1) - np.array(sample2)\n",
        "\n",
        "    # Perform a one-sample t-test on the differences\n",
        "    t_stat, p_value = stats.ttest_1samp(differences, 0)  # Test if the mean difference is zero\n",
        "\n",
        "    conclusion = \"Fail to reject the null hypothesis.\"\n",
        "    if p_value < alpha:\n",
        "        conclusion = \"Reject the null hypothesis.\"\n",
        "\n",
        "    return {\n",
        "        \"t-statistic\": t_stat,\n",
        "        \"p-value\": p_value,\n",
        "        \"conclusion\": conclusion,\n",
        "    }"
      ],
      "metadata": {
        "id": "XE2ZAqCWFeFB"
      },
      "execution_count": null,
      "outputs": []
    },
    {
      "cell_type": "code",
      "source": [
        "# Generate an example of two datasets that are related\n",
        "data_related1 = np.random.normal(50, 10, 20)\n",
        "data_related2 = data_related1 + np.random.normal(0, 3, 20)\n",
        "\n",
        "# Save to a text file\n",
        "np.savetxt(\"sample_data3.txt\", data_related1, fmt=\"%.4f\")\n",
        "np.savetxt(\"sample_data4.txt\", data_related2, fmt=\"%.4f\")"
      ],
      "metadata": {
        "id": "-6wJ9JNaH6b-"
      },
      "execution_count": null,
      "outputs": []
    },
    {
      "cell_type": "code",
      "source": [
        "result = paired_t_test(data_related1, data_related2,0.05)\n",
        "print(\"Paired t-test Results:\")\n",
        "print(f\"t-statistic: {result['t-statistic']:.5f}\")\n",
        "print(f\"p-value: {result['p-value']:.5f}\")\n",
        "print(f\"Conclusion: {result['conclusion']}\")"
      ],
      "metadata": {
        "colab": {
          "base_uri": "https://localhost:8080/"
        },
        "id": "cwGKmWHsItqW",
        "outputId": "b3b111d1-ace8-4b78-9563-978212c82c56"
      },
      "execution_count": null,
      "outputs": [
        {
          "output_type": "stream",
          "name": "stdout",
          "text": [
            "Paired t-test Results:\n",
            "t-statistic: 1.24702\n",
            "p-value: 0.22754\n",
            "Conclusion: Fail to reject the null hypothesis.\n"
          ]
        }
      ]
    },
    {
      "cell_type": "code",
      "source": [
        "# Hypothesis test for paired t-test use built-in function\n",
        "t_statistic, p_value = stats.ttest_rel(data_related1, data_related2)\n",
        "\n",
        "print(f\"t-statistic: {t_statistic:.5f}\")\n",
        "print(f\"p-value: {p_value:.5f}\")\n"
      ],
      "metadata": {
        "colab": {
          "base_uri": "https://localhost:8080/"
        },
        "id": "Aaku_ZpWHNNS",
        "outputId": "5a88686f-eb47-4dc1-d5b6-39298085af02"
      },
      "execution_count": null,
      "outputs": [
        {
          "output_type": "stream",
          "name": "stdout",
          "text": [
            "t-statistic: 1.24702\n",
            "p-value: 0.22754\n"
          ]
        }
      ]
    },
    {
      "cell_type": "code",
      "source": [],
      "metadata": {
        "id": "rL7ovjNrtoY7"
      },
      "execution_count": null,
      "outputs": []
    }
  ]
}